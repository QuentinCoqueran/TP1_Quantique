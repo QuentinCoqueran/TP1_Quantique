{
 "cells": [
  {
   "cell_type": "code",
   "execution_count": null,
   "metadata": {},
   "outputs": [],
   "source": [
    "\n",
    "import numpy as np\n",
    "from qiskit import *"
   ]
  },
  {
   "cell_type": "code",
   "execution_count": null,
   "metadata": {},
   "outputs": [],
   "source": [
    "# On crée un circuit quantique avec gardien 1, gardien 2 et ligne du mensonge\n",
    "circ = QuantumCircuit(3)"
   ]
  },
  {
   "cell_type": "code",
   "execution_count": null,
   "metadata": {},
   "outputs": [],
   "source": [
    "# Affichons le cicruit\n",
    "circ.draw()"
   ]
  },
  {
   "cell_type": "code",
   "execution_count": null,
   "metadata": {},
   "outputs": [],
   "source": [
    "# On met gardien 1 en superposition\n",
    "circ.h(0)"
   ]
  },
  {
   "cell_type": "code",
   "execution_count": null,
   "metadata": {},
   "outputs": [],
   "source": [
    "# On met la ligne du menteur en superposition\n",
    "circ.h(2)"
   ]
  },
  {
   "cell_type": "code",
   "execution_count": null,
   "metadata": {},
   "outputs": [],
   "source": [
    "# On intrique la ligne du menteur avec gardien 1 et/ou avec gardien 2\n",
    "circ.cx(2,1)\n",
    "circ.x(2)\n",
    "circ.cx(2,0)\n",
    "circ.x(2)\n",
    "circ.draw()"
   ]
  },
  {
   "cell_type": "code",
   "execution_count": null,
   "metadata": {},
   "outputs": [],
   "source": [
    "# On échange les gardiens pour la question\n",
    "circ.swap(0,1)\n",
    "circ.x(0)\n",
    "circ.x(1)\n",
    "circ.draw()"
   ]
  },
  {
   "cell_type": "code",
   "execution_count": null,
   "metadata": {},
   "outputs": [],
   "source": [
    "# Puis on réapplique le menteur\n",
    "circ.cx(2,1)\n",
    "circ.x(2)\n",
    "circ.cx(2,0)\n",
    "circ.x(2)\n",
    "circ.draw()"
   ]
  },
  {
   "cell_type": "code",
   "execution_count": null,
   "metadata": {},
   "outputs": [],
   "source": [
    "# Importe Aer pour simuler\n",
    "from qiskit import Aer\n",
    "\n",
    "backend = Aer.get_backend('statevector_simulator')\n",
    "\n",
    "# On lance le calcul\n",
    "job = backend.run(circ)\n",
    "# Affichons le résultat\n",
    "result = job.result()\n",
    "\n",
    "outputstate = result.get_statevector(circ,decimals=3)\n",
    "print(outputstate)"
   ]
  },
  {
   "cell_type": "code",
   "execution_count": null,
   "metadata": {},
   "outputs": [],
   "source": [
    "# Affichons un histogramme pour visualiser les résultats\n",
    "from qiskit.visualization import plot_state_city\n",
    "plot_state_city(outputstate)"
   ]
  }
 ],
 "metadata": {
  "kernelspec": {
   "display_name": "Python 3",
   "language": "python",
   "name": "python3"
  },
  "language_info": {
   "codemirror_mode": {
    "name": "ipython",
    "version": 3
   },
   "file_extension": ".py",
   "mimetype": "text/x-python",
   "name": "python",
   "nbconvert_exporter": "python",
   "pygments_lexer": "ipython3",
   "version": "3.10.11"
  }
 },
 "nbformat": 4,
 "nbformat_minor": 2
}
